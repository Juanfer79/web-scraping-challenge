{
 "cells": [
  {
   "cell_type": "code",
   "execution_count": 1,
   "metadata": {},
   "outputs": [],
   "source": [
    "#import Dependencies\n",
    "from splinter import Browser\n",
    "from webdriver_manager.chrome import ChromeDriverManager\n",
    "from bs4 import BeautifulSoup\n",
    "import requests\n",
    "import os\n",
    "import pandas as pd"
   ]
  },
  {
   "cell_type": "markdown",
   "metadata": {},
   "source": [
    "# Scrape 1 : Nasa Mars News"
   ]
  },
  {
   "cell_type": "code",
   "execution_count": 2,
   "metadata": {},
   "outputs": [
    {
     "name": "stdout",
     "output_type": "stream",
     "text": [
      "Nasa Mars News\n",
      "-------------------------\n",
      "NASA to Broadcast Mars 2020 Perseverance Launch, Prelaunch Activities\n",
      "Starting July 27, news activities will cover everything from mission engineering and science to returning samples from Mars to, of course, the launch itself.\n"
     ]
    }
   ],
   "source": [
    "url = 'https://mars.nasa.gov/news/'\n",
    "response = requests.get(url)\n",
    "soup = BeautifulSoup(response.text, \"html.parser\")\n",
    "title = soup.find(\"div\", class_=\"content_title\").a.text.strip('\\n')\n",
    "news = soup.find('div', class_='rollover_description_inner').text.strip('\\n')\n",
    "\n",
    "print(\"Nasa Mars News\")\n",
    "print(\"-------------------------\")\n",
    "print(title)\n",
    "print(news)"
   ]
  },
  {
   "cell_type": "markdown",
   "metadata": {},
   "source": [
    "# Scrape 2 : Image with Splinter"
   ]
  },
  {
   "cell_type": "code",
   "execution_count": 3,
   "metadata": {},
   "outputs": [
    {
     "name": "stderr",
     "output_type": "stream",
     "text": [
      "[WDM] - Current google-chrome version is 87.0.4280\n",
      "[WDM] - Get LATEST driver version for 87.0.4280\n",
      "[WDM] - Driver [/Users/juanramirez/.wdm/drivers/chromedriver/mac64/87.0.4280.88/chromedriver] found in cache\n"
     ]
    },
    {
     "name": "stdout",
     "output_type": "stream",
     "text": [
      " \n"
     ]
    }
   ],
   "source": [
    "# splniter browser\n",
    "executable_path = {\"executable_path\": ChromeDriverManager().install()}\n",
    "browser = Browser(\"chrome\", **executable_path, headless=False)"
   ]
  },
  {
   "cell_type": "code",
   "execution_count": 4,
   "metadata": {},
   "outputs": [
    {
     "name": "stdout",
     "output_type": "stream",
     "text": [
      "Mars Nasa Featured Image\n",
      "-------------------------\n",
      "https://www.jpl.nasa.gov/spaceimages/images/mediumsize/PIA16192_ip.jpg\n"
     ]
    }
   ],
   "source": [
    "# launch splinter finder \n",
    "browser.visit(\"https://www.jpl.nasa.gov/spaceimages/?search=&category=Mars\")\n",
    "html2 = browser.html\n",
    "soup2 = BeautifulSoup(html2, \"html.parser\")\n",
    "# Find link\n",
    "featured_image = soup2.find(\"a\",class_=\"button fancybox\").get(\"data-fancybox-href\")\n",
    "# print addresss\n",
    "featured_image_url=\"https://www.jpl.nasa.gov\"+featured_image\n",
    "print(\"Mars Nasa Featured Image\")\n",
    "print(\"-------------------------\")\n",
    "print(featured_image_url)"
   ]
  },
  {
   "cell_type": "markdown",
   "metadata": {},
   "source": [
    "# Scrape 3 : Weather Tweets "
   ]
  },
  {
   "cell_type": "code",
   "execution_count": 5,
   "metadata": {},
   "outputs": [],
   "source": [
    "browser.visit(\"https://twitter.com/marswxreport?lang=en\")"
   ]
  },
  {
   "cell_type": "code",
   "execution_count": 6,
   "metadata": {},
   "outputs": [
    {
     "name": "stdout",
     "output_type": "stream",
     "text": [
      "Mars Weather latest Tweet\n",
      "-------------------------\n",
      "\n",
      "\n"
     ]
    }
   ],
   "source": [
    "browser.execute_script(\"window.scrollTo(2, document.body.scrollHeight);\")\n",
    "html3 = browser.html\n",
    "soup3 = BeautifulSoup(html3, \"html.parser\")\n",
    "mars_tweets=\"\"\n",
    "mars_weather_scrape = soup3.find_all(\"div\", class_=\"css-901oao\")\n",
    "for tweet in mars_weather_scrape:\n",
    "        if \"º\" in tweet.text:\n",
    "            mars_tweets = tweet.text\n",
    "            break\n",
    "print(\"Mars Weather latest Tweet\")\n",
    "print(\"-------------------------\")\n",
    "print(mars_tweets)\n",
    "print()"
   ]
  },
  {
   "cell_type": "markdown",
   "metadata": {},
   "source": [
    "# Scrape 4 : Mars Facts"
   ]
  },
  {
   "cell_type": "code",
   "execution_count": 7,
   "metadata": {},
   "outputs": [],
   "source": [
    "url4 = \"https://space-facts.com/mars/\""
   ]
  },
  {
   "cell_type": "code",
   "execution_count": 9,
   "metadata": {},
   "outputs": [
    {
     "name": "stdout",
     "output_type": "stream",
     "text": [
      "Mars Facsts\n",
      "-------------------------\n",
      "                      0                              1\n",
      "0  Equatorial Diameter:                       6,792 km\n",
      "1       Polar Diameter:                       6,752 km\n",
      "2                 Mass:  6.39 × 10^23 kg (0.11 Earths)\n",
      "3                Moons:            2 (Phobos & Deimos)\n",
      "4       Orbit Distance:       227,943,824 km (1.38 AU)\n",
      "5         Orbit Period:           687 days (1.9 years)\n",
      "6  Surface Temperature:                   -87 to -5 °C\n",
      "7         First Record:              2nd millennium BC\n",
      "8          Recorded By:           Egyptian astronomers\n"
     ]
    }
   ],
   "source": [
    "facts = pd.read_html(url4)[0]\n",
    "\n",
    "print(\"Mars Facsts\")\n",
    "print(\"-------------------------\")\n",
    "print(facts)\n"
   ]
  },
  {
   "cell_type": "markdown",
   "metadata": {},
   "source": [
    "# Scrape 5 : Mars Hemispheres Pictures "
   ]
  },
  {
   "cell_type": "code",
   "execution_count": 22,
   "metadata": {},
   "outputs": [
    {
     "name": "stdout",
     "output_type": "stream",
     "text": [
      "Mars Hemispheres Pictures Links\n",
      "-------------------------\n",
      "[{'Desc': 'Cerberus Hemispher', 'URL': 'https://astrogeology.usgs.gov//cache/images/39d3266553462198bd2fbc4d18fbed17_cerberus_enhanced.tif_thumb.png'}, {'Desc': 'Schiaparelli Hemispher', 'URL': 'https://astrogeology.usgs.gov//cache/images/08eac6e22c07fb1fe72223a79252de20_schiaparelli_enhanced.tif_thumb.png'}, {'Desc': 'Syrtis Major Hemispher', 'URL': 'https://astrogeology.usgs.gov//cache/images/55a0a1e2796313fdeafb17c35925e8ac_syrtis_major_enhanced.tif_thumb.png'}, {'Desc': 'Valles Marineris Hemispher', 'URL': 'https://astrogeology.usgs.gov//cache/images/4e59980c1c57f89c680c0e1ccabbeff1_valles_marineris_enhanced.tif_thumb.png'}]\n"
     ]
    }
   ],
   "source": [
    "url=\"https://astrogeology.usgs.gov/search/results?q=hemisphere+enhanced&k1=target&v1=Mars\"\n",
    "response=requests.get(url)\n",
    "soup5=BeautifulSoup(response.text,\"html.parser\")\n",
    "hemi_text=soup5.find_all(\"div\",class_=\"item\")\n",
    "hemisphere_image_urls=[]\n",
    "for i in hemi_text:\n",
    "    string=i.a.img[\"src\"]\n",
    "    desc=i.div.h3.text.rstrip(\" Enhanced\")\n",
    "    hemisphere_image_urls.append(\n",
    "    {\n",
    "        \"Desc\":desc,\n",
    "        \"URL\":f\"https://astrogeology.usgs.gov/{string}\"\n",
    "    }\n",
    "    )\n",
    "\n",
    "\n",
    "print(\"Mars Hemispheres Pictures Links\")\n",
    "print(\"-------------------------\")\n",
    "print(hemisphere_image_urls)"
   ]
  },
  {
   "cell_type": "code",
   "execution_count": null,
   "metadata": {},
   "outputs": [],
   "source": [
    "# Close browser\n",
    "    browser.quit()"
   ]
  }
 ],
 "metadata": {
  "kernelspec": {
   "display_name": "Python 3",
   "language": "python",
   "name": "python3"
  },
  "language_info": {
   "codemirror_mode": {
    "name": "ipython",
    "version": 3
   },
   "file_extension": ".py",
   "mimetype": "text/x-python",
   "name": "python",
   "nbconvert_exporter": "python",
   "pygments_lexer": "ipython3",
   "version": "3.8.3"
  }
 },
 "nbformat": 4,
 "nbformat_minor": 4
}
