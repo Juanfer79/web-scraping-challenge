{
 "cells": [
  {
   "cell_type": "code",
   "execution_count": null,
   "metadata": {},
   "outputs": [],
   "source": [
    "# Scrapping process\n",
    "# define sracpping function\n",
    "\n",
    "def scraper():\n",
    "    #browser = init_browser()\n",
    "    \n",
    "    url = \"https://mars.nasa.gov/news/?page=0&per_page=40&order=publish_date+desc%2Ccreated_at+desc&search=&category=19%2C165%2C184%2C204&blank_scope=Latest\"\n",
    "    #browser.visit(url)\n",
    "    \n",
    "    html = browser.html\n",
    "    soup = BeautifulSoup(html, 'html.parser')\n",
    "    \n",
    "    headline = soup.find(\"div\", class_=\"content_title\").get_text()\n",
    "    news = soup.find(\"div\", class_=\"article_teaser_body\").get_text()\n",
    "    date = soup.find(\"div\", class_=\"list_date).get_text\").get_text()\n",
    "                     \n",
    "    return f\"{date}/{headline}:{news}\"\n",
    "                     \n",
    "    "
   ]
  },
  {
   "cell_type": "code",
   "execution_count": null,
   "metadata": {},
   "outputs": [],
   "source": [
    "response = requests.get(url)\n",
    "soup = BeautifulSoup(response.text, \"html.parser\")\n",
    "print(soup.prettify())\n",
    "headline = soup.find(\"div\", class_=\"content_title\").get_text()\n",
    "news = soup.find(\"div\", class_=\"article_teaser_body\").get_text()\n",
    "date = soup.find(\"div\", class_=\"list_date).get_text\").get_text()\n",
    "\n"
   ]
  },
  {
   "cell_type": "code",
   "execution_count": null,
   "metadata": {},
   "outputs": [],
   "source": [
    "headline = soup.find(\"div\", class_=\"content_title\")\n",
    "news = soup.find(\"div\", class_=\"article_teaser_body\")\n",
    "print(headline)\n",
    "#print(news)"
   ]
  }
 ],
 "metadata": {
  "kernelspec": {
   "display_name": "Python 3",
   "language": "python",
   "name": "python3"
  },
  "language_info": {
   "codemirror_mode": {
    "name": "ipython",
    "version": 3
   },
   "file_extension": ".py",
   "mimetype": "text/x-python",
   "name": "python",
   "nbconvert_exporter": "python",
   "pygments_lexer": "ipython3",
   "version": "3.8.3"
  }
 },
 "nbformat": 4,
 "nbformat_minor": 4
}
